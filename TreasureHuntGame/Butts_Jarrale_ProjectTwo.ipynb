{
 "cells": [
  {
   "cell_type": "markdown",
   "metadata": {},
   "source": [
    "# Treasure Hunt Game Notebook\n",
    "\n",
    "## Read and Review Your Starter Code\n",
    "The theme of this project is a popular treasure hunt game in which the player needs to find the treasure before the pirate does. While you will not be developing the entire game, you will write the part of the game that represents the intelligent agent, which is a pirate in this case. The pirate will try to find the optimal path to the treasure using deep Q-learning. \n",
    "\n",
    "You have been provided with two Python classes and this notebook to help you with this assignment. The first class, TreasureMaze.py, represents the environment, which includes a maze object defined as a matrix. The second class, GameExperience.py, stores the episodes – that is, all the states that come in between the initial state and the terminal state. This is later used by the agent for learning by experience, called \"exploration\". This notebook shows how to play a game. Your task is to complete the deep Q-learning implementation for which a skeleton implementation has been provided. The code blocks you will need to complete has #TODO as a header.\n",
    "\n",
    "First, read and review the next few code and instruction blocks to understand the code that you have been given."
   ]
  },
  {
   "cell_type": "code",
   "execution_count": 1,
   "metadata": {},
   "outputs": [
    {
     "name": "stderr",
     "output_type": "stream",
     "text": [
      "Using TensorFlow backend.\n"
     ]
    }
   ],
   "source": [
    "from __future__ import print_function\n",
    "import os, sys, time, datetime, json, random\n",
    "import numpy as np\n",
    "from keras.models import Sequential\n",
    "from keras.layers.core import Dense, Activation\n",
    "from keras.optimizers import SGD , Adam, RMSprop\n",
    "from keras.layers.advanced_activations import PReLU\n",
    "import matplotlib.pyplot as plt\n",
    "from TreasureMaze import TreasureMaze\n",
    "from GameExperience import GameExperience\n",
    "%matplotlib inline"
   ]
  },
  {
   "cell_type": "markdown",
   "metadata": {},
   "source": [
    "The following code block contains an 8x8 matrix that will be used as a maze object:"
   ]
  },
  {
   "cell_type": "code",
   "execution_count": 2,
   "metadata": {},
   "outputs": [],
   "source": [
    "maze = np.array([\n",
    "    [ 1.,  0.,  1.,  1.,  1.,  1.,  1.,  1.],\n",
    "    [ 1.,  0.,  1.,  1.,  1.,  0.,  1.,  1.],\n",
    "    [ 1.,  1.,  1.,  1.,  0.,  1.,  0.,  1.],\n",
    "    [ 1.,  1.,  1.,  0.,  1.,  1.,  1.,  1.],\n",
    "    [ 1.,  1.,  0.,  1.,  1.,  1.,  1.,  1.],\n",
    "    [ 1.,  1.,  1.,  0.,  1.,  0.,  0.,  0.],\n",
    "    [ 1.,  1.,  1.,  0.,  1.,  1.,  1.,  1.],\n",
    "    [ 1.,  1.,  1.,  1.,  0.,  1.,  1.,  1.]\n",
    "])"
   ]
  },
  {
   "cell_type": "markdown",
   "metadata": {},
   "source": [
    "This helper function allows a visual representation of the maze object:"
   ]
  },
  {
   "cell_type": "code",
   "execution_count": 3,
   "metadata": {},
   "outputs": [],
   "source": [
    "def show(qmaze):\n",
    "    plt.grid('on')\n",
    "    nrows, ncols = qmaze.maze.shape\n",
    "    ax = plt.gca()\n",
    "    ax.set_xticks(np.arange(0.5, nrows, 1))\n",
    "    ax.set_yticks(np.arange(0.5, ncols, 1))\n",
    "    ax.set_xticklabels([])\n",
    "    ax.set_yticklabels([])\n",
    "    canvas = np.copy(qmaze.maze)\n",
    "    for row,col in qmaze.visited:\n",
    "        canvas[row,col] = 0.6\n",
    "    pirate_row, pirate_col, _ = qmaze.state\n",
    "    canvas[pirate_row, pirate_col] = 0.3   # pirate cell\n",
    "    canvas[nrows-1, ncols-1] = 0.9 # treasure cell\n",
    "    img = plt.imshow(canvas, interpolation='none', cmap='gray')\n",
    "    return img"
   ]
  },
  {
   "cell_type": "markdown",
   "metadata": {},
   "source": [
    "The pirate agent can move in four directions: left, right, up, and down. \n",
    "\n",
    "While the agent primarily learns by experience through exploitation, often, the agent can choose to explore the environment to find previously undiscovered paths. This is called \"exploration\" and is defined by epsilon. This value is typically a lower value such as 0.1, which means for every ten attempts, the agent will attempt to learn by experience nine times and will randomly explore a new path one time. You are encouraged to try various values for the exploration factor and see how the algorithm performs."
   ]
  },
  {
   "cell_type": "code",
   "execution_count": 4,
   "metadata": {},
   "outputs": [],
   "source": [
    "LEFT = 0\n",
    "UP = 1\n",
    "RIGHT = 2\n",
    "DOWN = 3\n",
    "\n",
    "\n",
    "# Exploration factor\n",
    "epsilon = 0.1\n",
    "\n",
    "# Actions dictionary\n",
    "actions_dict = {\n",
    "    LEFT: 'left',\n",
    "    UP: 'up',\n",
    "    RIGHT: 'right',\n",
    "    DOWN: 'down',\n",
    "}\n",
    "\n",
    "num_actions = len(actions_dict)\n"
   ]
  },
  {
   "cell_type": "markdown",
   "metadata": {},
   "source": [
    "The sample code block and output below show creating a maze object and performing one action (DOWN), which returns the reward. The resulting updated environment is visualized."
   ]
  },
  {
   "cell_type": "code",
   "execution_count": 5,
   "metadata": {},
   "outputs": [
    {
     "name": "stdout",
     "output_type": "stream",
     "text": [
      "reward= -0.04\n"
     ]
    },
    {
     "data": {
      "text/plain": [
       "<matplotlib.image.AxesImage at 0x1a28f272f08>"
      ]
     },
     "execution_count": 5,
     "metadata": {},
     "output_type": "execute_result"
    },
    {
     "data": {
      "image/png": "[encoded data removed]",
      "text/plain": [
       "<Figure size 432x288 with 1 Axes>"
      ]
     },
     "metadata": {
      "needs_background": "light"
     },
     "output_type": "display_data"
    }
   ],
   "source": [
    "qmaze = TreasureMaze(maze)\n",
    "canvas, reward, game_over = qmaze.act(DOWN)\n",
    "print(\"reward=\", reward)\n",
    "show(qmaze)"
   ]
  },
  {
   "cell_type": "markdown",
   "metadata": {},
   "source": [
    "This function simulates a full game based on the provided trained model. The other parameters include the TreasureMaze object and the starting position of the pirate."
   ]
  },
  {
   "cell_type": "code",
   "execution_count": 6,
   "metadata": {},
   "outputs": [],
   "source": [
    "def play_game(model, qmaze, pirate_cell):\n",
    "    qmaze.reset(pirate_cell)\n",
    "    envstate = qmaze.observe()\n",
    "    while True:\n",
    "        prev_envstate = envstate\n",
    "        # get next action\n",
    "        q = model.predict(prev_envstate)\n",
    "        action = np.argmax(q[0])\n",
    "\n",
    "        # apply action, get rewards and new state\n",
    "        envstate, reward, game_status = qmaze.act(action)\n",
    "        if game_status == 'win':\n",
    "            return True\n",
    "        elif game_status == 'lose':\n",
    "            return False"
   ]
  },
  {
   "cell_type": "markdown",
   "metadata": {},
   "source": [
    "This function helps you to determine whether the pirate can win any game at all. If your maze is not well designed, the pirate may not win any game at all. In this case, your training would not yield any result. The provided maze in this notebook ensures that there is a path to win and you can run this method to check."
   ]
  },
  {
   "cell_type": "code",
   "execution_count": 7,
   "metadata": {},
   "outputs": [],
   "source": [
    "def completion_check(model, qmaze):\n",
    "    for cell in qmaze.free_cells:\n",
    "        if not qmaze.valid_actions(cell):\n",
    "            return False\n",
    "        if not play_game(model, qmaze, cell):\n",
    "            return False\n",
    "    return True"
   ]
  },
  {
   "cell_type": "markdown",
   "metadata": {},
   "source": [
    "The code you have been given in this block will build the neural network model. Review the code and note the number of layers, as well as the activation, optimizer, and loss functions that are used to train the model."
   ]
  },
  {
   "cell_type": "code",
   "execution_count": 8,
   "metadata": {},
   "outputs": [],
   "source": [
    "def build_model(maze):\n",
    "    model = Sequential()\n",
    "    model.add(Dense(maze.size, input_shape=(maze.size,)))\n",
    "    model.add(PReLU())\n",
    "    model.add(Dense(maze.size))\n",
    "    model.add(PReLU())\n",
    "    model.add(Dense(num_actions))\n",
    "    model.compile(optimizer='adam', loss='mse')\n",
    "    return model"
   ]
  },
  {
   "cell_type": "markdown",
   "metadata": {},
   "source": [
    "# #TODO: Complete the Q-Training Algorithm Code Block\n",
    "\n",
    "This is your deep Q-learning implementation. The goal of your deep Q-learning implementation is to find the best possible navigation sequence that results in reaching the treasure cell while maximizing the reward. In your implementation, you need to determine the optimal number of epochs to achieve a 100% win rate.\n",
    "\n",
    "You will need to complete the section starting with #pseudocode. The pseudocode has been included for you."
   ]
  },
  {
   "cell_type": "code",
   "execution_count": 9,
   "metadata": {},
   "outputs": [],
   "source": [
    "def qtrain(model, maze, **opt):\n",
    "\n",
    "    # exploration factor\n",
    "    global epsilon \n",
    "\n",
    "    # number of epochs\n",
    "    n_epoch = opt.get('n_epoch', 15000)\n",
    "\n",
    "    # maximum memory to store episodes\n",
    "    max_memory = opt.get('max_memory', 1000)\n",
    "\n",
    "    # maximum data size for training\n",
    "    data_size = opt.get('data_size', 50)\n",
    "\n",
    "    # start time\n",
    "    start_time = datetime.datetime.now()\n",
    "\n",
    "    # Construct environment/game from numpy array: maze (see above)\n",
    "    qmaze = TreasureMaze(maze)\n",
    "\n",
    "    # Initialize experience replay object\n",
    "    experience = GameExperience(model, max_memory=max_memory)\n",
    "    \n",
    "    win_history = []   # history of win/lose game\n",
    "    hsize = qmaze.maze.size//2   # history window size\n",
    "    win_rate = 0.0\n",
    "    loss = 0\n",
    "    n_episodes = 0\n",
    "    \n",
    "    # Start off by iterating through the epochs (games)\n",
    "    for epoch in range(n_epoch):\n",
    "        \n",
    "        # The agent (pirate) will start off in a random cell, reset the maze with the pirate inside that random cell,\n",
    "        # and look at the enviornment (the maze with the free and non_free cells)\n",
    "        agent_cell = random.choice(qmaze.free_cells)\n",
    "        qmaze.reset(agent_cell)\n",
    "        envstate = qmaze.observe()\n",
    "        \n",
    "        # while the game status is not over\n",
    "        while True:\n",
    "            \n",
    "            # previous_envstate will hold the previous state of the game cells for the agent to look back at when using predict,\n",
    "            # and the agent will choose an action based on random exploration or exploiting its previous knowledge.\n",
    "            previous_envstate = envstate\n",
    "            if np.random.rand() < epsilon:    # Randomly chooses a number between 0 & 1 (Geeksforgeeks.org/numpy-random-rand-python)\n",
    "                action = random.choice(qmaze.valid_actions())\n",
    "            else:\n",
    "                q_values = model.predict(previous_envstate)    #(Taken from...def play_game)\n",
    "                action = np.argmax(q_values[0])\n",
    "            \n",
    "            # Apply action, get reward, and new state (taken from...def play_game), set episode to be an array to be used later to be learned\n",
    "            # from, add an episode (action) to the current epoch, and commit the episode to memory\n",
    "            envstate, reward, game_status = qmaze.act(action)            \n",
    "            episode = [previous_envstate, action, reward, envstate, game_status]\n",
    "            n_episodes += 1\n",
    "            experience.remember(episode)\n",
    "            \n",
    "            # Retrieve training data, careful to fit the model without overfitting (adjust batch_size (default 32) & epochs to your liking),\n",
    "            # lastly, determine the loss of the training data\n",
    "            inputs, targets = experience.get_data(data_size)\n",
    "            training_data = model.fit(inputs, targets, epochs=4, verbose=0)    # (keras.io/api/models/model_training_apis)\n",
    "            loss = model.evaluate(inputs, targets, verbose=0)\n",
    "        \n",
    "            # After each episode check game status, append before calculating win_rate to avoid dividing by 0, \n",
    "            # and break out of the if statement\n",
    "            if qmaze.game_status() == 'win':\n",
    "                print(\"I won\")\n",
    "                win_history.append(1)\n",
    "                win_rate = sum(win_history) / len(win_history)\n",
    "                break\n",
    "                \n",
    "            elif qmaze.game_status() == 'lose':\n",
    "                print(\"Lost again\")\n",
    "                win_history.append(0)\n",
    "                win_rate = sum(win_history) / len(win_history)\n",
    "                break\n",
    "\n",
    "\n",
    "    #Print the epoch, loss, episodes, win count, and win rate for each epoch\n",
    "        dt = datetime.datetime.now() - start_time\n",
    "        t = format_time(dt.total_seconds())\n",
    "        template = \"Epoch: {:03d}/{:d} | Loss: {:.4f} | Episodes: {:d} | Win count: {:d} | Win rate: {:.3f} | time: {}\"\n",
    "        print(template.format(epoch, n_epoch-1, loss, n_episodes, sum(win_history), win_rate, t))\n",
    "        # We simply check if training has exhausted all free cells and if in all\n",
    "        # cases the agent won.\n",
    "        if win_rate > 0.9 : epsilon = 0.05\n",
    "        if sum(win_history[-hsize:]) == hsize and completion_check(model, qmaze):\n",
    "            print(\"Reached 100%% win rate at epoch: %d\" % (epoch,))\n",
    "            break\n",
    "    \n",
    "    \n",
    "    # Determine the total time for training\n",
    "    dt = datetime.datetime.now() - start_time\n",
    "    seconds = dt.total_seconds()\n",
    "    t = format_time(seconds)\n",
    "\n",
    "    print(\"n_epoch: %d, max_mem: %d, data: %d, time: %s\" % (epoch, max_memory, data_size, t))\n",
    "    return seconds\n",
    "\n",
    "# This is a small utility for printing readable time strings:\n",
    "def format_time(seconds):\n",
    "    if seconds < 400:\n",
    "        s = float(seconds)\n",
    "        return \"%.1f seconds\" % (s,)\n",
    "    elif seconds < 4000:\n",
    "        m = seconds / 60.0\n",
    "        return \"%.2f minutes\" % (m,)\n",
    "    else:\n",
    "        h = seconds / 3600.0\n",
    "        return \"%.2f hours\" % (h,)"
   ]
  },
  {
   "cell_type": "markdown",
   "metadata": {},
   "source": [
    "## Test Your Model\n",
    "\n",
    "Now we will start testing the deep Q-learning implementation. To begin, select **Cell**, then **Run All** from the menu bar. This will run your notebook. As it runs, you should see output begin to appear beneath the next few cells. The code below creates an instance of TreasureMaze."
   ]
  },
  {
   "cell_type": "code",
   "execution_count": 10,
   "metadata": {
    "scrolled": true
   },
   "outputs": [
    {
     "data": {
      "text/plain": [
       "<matplotlib.image.AxesImage at 0x1a28f305f48>"
      ]
     },
     "execution_count": 10,
     "metadata": {},
     "output_type": "execute_result"
    },
    {
     "data": {
      "image/png": "[encoded data removed]",
      "text/plain": [
       "<Figure size 432x288 with 1 Axes>"
      ]
     },
     "metadata": {
      "needs_background": "light"
     },
     "output_type": "display_data"
    }
   ],
   "source": [
    "qmaze = TreasureMaze(maze)\n",
    "show(qmaze)"
   ]
  },
  {
   "cell_type": "markdown",
   "metadata": {},
   "source": [
    "In the next code block, you will build your model and train it using deep Q-learning. Note: This step takes several minutes to fully run."
   ]
  },
  {
   "cell_type": "code",
   "execution_count": 11,
   "metadata": {},
   "outputs": [
    {
     "name": "stdout",
     "output_type": "stream",
     "text": [
      "Lost again\n",
      "Epoch: 000/14999 | Loss: 0.0011 | Episodes: 144 | Win count: 0 | Win rate: 0.000 | time: 14.1 seconds\n",
      "Lost again\n",
      "Epoch: 001/14999 | Loss: 0.0002 | Episodes: 274 | Win count: 0 | Win rate: 0.000 | time: 28.2 seconds\n",
      "Lost again\n",
      "Epoch: 002/14999 | Loss: 0.0004 | Episodes: 416 | Win count: 0 | Win rate: 0.000 | time: 41.5 seconds\n",
      "I won\n",
      "Epoch: 003/14999 | Loss: 0.0009 | Episodes: 455 | Win count: 1 | Win rate: 0.250 | time: 45.3 seconds\n",
      "Lost again\n",
      "Epoch: 004/14999 | Loss: 0.0011 | Episodes: 599 | Win count: 1 | Win rate: 0.200 | time: 60.5 seconds\n",
      "I won\n",
      "Epoch: 005/14999 | Loss: 0.0009 | Episodes: 737 | Win count: 2 | Win rate: 0.333 | time: 73.6 seconds\n",
      "I won\n",
      "Epoch: 006/14999 | Loss: 0.0004 | Episodes: 780 | Win count: 3 | Win rate: 0.429 | time: 77.4 seconds\n",
      "I won\n",
      "Epoch: 007/14999 | Loss: 0.0024 | Episodes: 833 | Win count: 4 | Win rate: 0.500 | time: 82.3 seconds\n",
      "I won\n",
      "Epoch: 008/14999 | Loss: 0.0017 | Episodes: 946 | Win count: 5 | Win rate: 0.556 | time: 94.0 seconds\n",
      "I won\n",
      "Epoch: 009/14999 | Loss: 0.0013 | Episodes: 1048 | Win count: 6 | Win rate: 0.600 | time: 104.1 seconds\n",
      "I won\n",
      "Epoch: 010/14999 | Loss: 0.0005 | Episodes: 1055 | Win count: 7 | Win rate: 0.636 | time: 104.9 seconds\n",
      "I won\n",
      "Epoch: 011/14999 | Loss: 0.0010 | Episodes: 1086 | Win count: 8 | Win rate: 0.667 | time: 107.8 seconds\n",
      "I won\n",
      "Epoch: 012/14999 | Loss: 0.0011 | Episodes: 1099 | Win count: 9 | Win rate: 0.692 | time: 109.0 seconds\n",
      "I won\n",
      "Epoch: 013/14999 | Loss: 0.0012 | Episodes: 1121 | Win count: 10 | Win rate: 0.714 | time: 111.2 seconds\n",
      "I won\n",
      "Epoch: 014/14999 | Loss: 0.0015 | Episodes: 1122 | Win count: 11 | Win rate: 0.733 | time: 111.2 seconds\n",
      "I won\n",
      "Epoch: 015/14999 | Loss: 0.0017 | Episodes: 1130 | Win count: 12 | Win rate: 0.750 | time: 112.0 seconds\n",
      "I won\n",
      "Epoch: 016/14999 | Loss: 0.0010 | Episodes: 1165 | Win count: 13 | Win rate: 0.765 | time: 115.1 seconds\n",
      "I won\n",
      "Epoch: 017/14999 | Loss: 0.0013 | Episodes: 1177 | Win count: 14 | Win rate: 0.778 | time: 116.3 seconds\n",
      "I won\n",
      "Epoch: 018/14999 | Loss: 0.0010 | Episodes: 1207 | Win count: 15 | Win rate: 0.789 | time: 119.2 seconds\n",
      "I won\n",
      "Epoch: 019/14999 | Loss: 0.0010 | Episodes: 1286 | Win count: 16 | Win rate: 0.800 | time: 126.4 seconds\n",
      "I won\n",
      "Epoch: 020/14999 | Loss: 0.0016 | Episodes: 1351 | Win count: 17 | Win rate: 0.810 | time: 132.5 seconds\n",
      "I won\n",
      "Epoch: 021/14999 | Loss: 0.0015 | Episodes: 1457 | Win count: 18 | Win rate: 0.818 | time: 143.7 seconds\n",
      "I won\n",
      "Epoch: 022/14999 | Loss: 0.0010 | Episodes: 1484 | Win count: 19 | Win rate: 0.826 | time: 146.4 seconds\n",
      "I won\n",
      "Epoch: 023/14999 | Loss: 0.0009 | Episodes: 1502 | Win count: 20 | Win rate: 0.833 | time: 148.3 seconds\n",
      "I won\n",
      "Epoch: 024/14999 | Loss: 0.0012 | Episodes: 1527 | Win count: 21 | Win rate: 0.840 | time: 153.3 seconds\n",
      "I won\n",
      "Epoch: 025/14999 | Loss: 0.0009 | Episodes: 1545 | Win count: 22 | Win rate: 0.846 | time: 157.9 seconds\n",
      "I won\n",
      "Epoch: 026/14999 | Loss: 0.0009 | Episodes: 1569 | Win count: 23 | Win rate: 0.852 | time: 164.5 seconds\n",
      "I won\n",
      "Epoch: 027/14999 | Loss: 0.0010 | Episodes: 1582 | Win count: 24 | Win rate: 0.857 | time: 167.9 seconds\n",
      "I won\n",
      "Epoch: 028/14999 | Loss: 0.0009 | Episodes: 1604 | Win count: 25 | Win rate: 0.862 | time: 174.0 seconds\n",
      "I won\n",
      "Epoch: 029/14999 | Loss: 0.0067 | Episodes: 1607 | Win count: 26 | Win rate: 0.867 | time: 174.6 seconds\n",
      "I won\n",
      "Epoch: 030/14999 | Loss: 0.0011 | Episodes: 1634 | Win count: 27 | Win rate: 0.871 | time: 182.3 seconds\n",
      "I won\n",
      "Epoch: 031/14999 | Loss: 0.0049 | Episodes: 1651 | Win count: 28 | Win rate: 0.875 | time: 187.0 seconds\n",
      "I won\n",
      "Epoch: 032/14999 | Loss: 0.0032 | Episodes: 1667 | Win count: 29 | Win rate: 0.879 | time: 191.0 seconds\n",
      "I won\n",
      "Epoch: 033/14999 | Loss: 0.0020 | Episodes: 1703 | Win count: 30 | Win rate: 0.882 | time: 200.1 seconds\n",
      "I won\n",
      "Epoch: 034/14999 | Loss: 0.0004 | Episodes: 1727 | Win count: 31 | Win rate: 0.886 | time: 206.8 seconds\n",
      "I won\n",
      "Epoch: 035/14999 | Loss: 0.0011 | Episodes: 1737 | Win count: 32 | Win rate: 0.889 | time: 209.6 seconds\n",
      "I won\n",
      "Epoch: 036/14999 | Loss: 0.0013 | Episodes: 1787 | Win count: 33 | Win rate: 0.892 | time: 217.3 seconds\n",
      "I won\n",
      "Epoch: 037/14999 | Loss: 0.0013 | Episodes: 1809 | Win count: 34 | Win rate: 0.895 | time: 220.3 seconds\n",
      "I won\n",
      "Epoch: 038/14999 | Loss: 0.0003 | Episodes: 1842 | Win count: 35 | Win rate: 0.897 | time: 224.3 seconds\n",
      "I won\n",
      "Epoch: 039/14999 | Loss: 0.0008 | Episodes: 1849 | Win count: 36 | Win rate: 0.900 | time: 225.2 seconds\n",
      "I won\n",
      "Epoch: 040/14999 | Loss: 0.0005 | Episodes: 1866 | Win count: 37 | Win rate: 0.902 | time: 227.3 seconds\n",
      "I won\n",
      "Epoch: 041/14999 | Loss: 0.0006 | Episodes: 1869 | Win count: 38 | Win rate: 0.905 | time: 227.8 seconds\n",
      "I won\n",
      "Epoch: 042/14999 | Loss: 0.0005 | Episodes: 1883 | Win count: 39 | Win rate: 0.907 | time: 229.8 seconds\n",
      "I won\n",
      "Epoch: 043/14999 | Loss: 0.0006 | Episodes: 1893 | Win count: 40 | Win rate: 0.909 | time: 231.1 seconds\n",
      "I won\n",
      "Epoch: 044/14999 | Loss: 0.0008 | Episodes: 1909 | Win count: 41 | Win rate: 0.911 | time: 233.0 seconds\n",
      "I won\n",
      "Epoch: 045/14999 | Loss: 0.0004 | Episodes: 1911 | Win count: 42 | Win rate: 0.913 | time: 233.5 seconds\n",
      "I won\n",
      "Epoch: 046/14999 | Loss: 0.0005 | Episodes: 1925 | Win count: 43 | Win rate: 0.915 | time: 235.2 seconds\n",
      "I won\n",
      "Epoch: 047/14999 | Loss: 0.0012 | Episodes: 1926 | Win count: 44 | Win rate: 0.917 | time: 235.5 seconds\n",
      "I won\n",
      "Epoch: 048/14999 | Loss: 0.0003 | Episodes: 1945 | Win count: 45 | Win rate: 0.918 | time: 238.0 seconds\n",
      "I won\n",
      "Epoch: 049/14999 | Loss: 0.0006 | Episodes: 1978 | Win count: 46 | Win rate: 0.920 | time: 241.9 seconds\n",
      "I won\n",
      "Epoch: 050/14999 | Loss: 0.0005 | Episodes: 1999 | Win count: 47 | Win rate: 0.922 | time: 244.4 seconds\n",
      "I won\n",
      "Epoch: 051/14999 | Loss: 0.0005 | Episodes: 2027 | Win count: 48 | Win rate: 0.923 | time: 247.1 seconds\n",
      "I won\n",
      "Epoch: 052/14999 | Loss: 0.0002 | Episodes: 2036 | Win count: 49 | Win rate: 0.925 | time: 248.3 seconds\n",
      "I won\n",
      "Epoch: 053/14999 | Loss: 0.0007 | Episodes: 2056 | Win count: 50 | Win rate: 0.926 | time: 250.7 seconds\n",
      "I won\n",
      "Epoch: 054/14999 | Loss: 0.0002 | Episodes: 2069 | Win count: 51 | Win rate: 0.927 | time: 252.4 seconds\n",
      "I won\n",
      "Epoch: 055/14999 | Loss: 0.0010 | Episodes: 2098 | Win count: 52 | Win rate: 0.929 | time: 256.0 seconds\n",
      "I won\n",
      "Epoch: 056/14999 | Loss: 0.0003 | Episodes: 2099 | Win count: 53 | Win rate: 0.930 | time: 256.3 seconds\n",
      "I won\n",
      "Epoch: 057/14999 | Loss: 0.0006 | Episodes: 2149 | Win count: 54 | Win rate: 0.931 | time: 261.8 seconds\n",
      "I won\n",
      "Epoch: 058/14999 | Loss: 0.0004 | Episodes: 2162 | Win count: 55 | Win rate: 0.932 | time: 263.8 seconds\n",
      "I won\n",
      "Epoch: 059/14999 | Loss: 0.0008 | Episodes: 2185 | Win count: 56 | Win rate: 0.933 | time: 267.0 seconds\n",
      "I won\n",
      "Epoch: 060/14999 | Loss: 0.0010 | Episodes: 2198 | Win count: 57 | Win rate: 0.934 | time: 269.0 seconds\n",
      "I won\n",
      "Epoch: 061/14999 | Loss: 0.0003 | Episodes: 2218 | Win count: 58 | Win rate: 0.935 | time: 271.3 seconds\n",
      "I won\n",
      "Epoch: 062/14999 | Loss: 0.0003 | Episodes: 2243 | Win count: 59 | Win rate: 0.937 | time: 274.2 seconds\n",
      "I won\n",
      "Epoch: 063/14999 | Loss: 0.0011 | Episodes: 2273 | Win count: 60 | Win rate: 0.938 | time: 277.6 seconds\n",
      "I won\n",
      "Epoch: 064/14999 | Loss: 0.0002 | Episodes: 2280 | Win count: 61 | Win rate: 0.938 | time: 278.6 seconds\n",
      "I won\n",
      "Epoch: 065/14999 | Loss: 0.0003 | Episodes: 2282 | Win count: 62 | Win rate: 0.939 | time: 279.0 seconds\n",
      "I won\n",
      "Epoch: 066/14999 | Loss: 0.0005 | Episodes: 2291 | Win count: 63 | Win rate: 0.940 | time: 280.1 seconds\n",
      "I won\n",
      "Epoch: 067/14999 | Loss: 0.0001 | Episodes: 2300 | Win count: 64 | Win rate: 0.941 | time: 281.4 seconds\n",
      "I won\n",
      "Epoch: 068/14999 | Loss: 0.0004 | Episodes: 2309 | Win count: 65 | Win rate: 0.942 | time: 282.9 seconds\n",
      "I won\n",
      "Epoch: 069/14999 | Loss: 0.0005 | Episodes: 2340 | Win count: 66 | Win rate: 0.943 | time: 286.8 seconds\n",
      "I won\n",
      "Epoch: 070/14999 | Loss: 0.0002 | Episodes: 2379 | Win count: 67 | Win rate: 0.944 | time: 291.5 seconds\n",
      "I won\n",
      "Epoch: 071/14999 | Loss: 0.0005 | Episodes: 2397 | Win count: 68 | Win rate: 0.944 | time: 293.4 seconds\n",
      "I won\n",
      "Epoch: 072/14999 | Loss: 0.0009 | Episodes: 2424 | Win count: 69 | Win rate: 0.945 | time: 296.6 seconds\n",
      "I won\n",
      "Epoch: 073/14999 | Loss: 0.0008 | Episodes: 2455 | Win count: 70 | Win rate: 0.946 | time: 300.3 seconds\n",
      "I won\n",
      "Epoch: 074/14999 | Loss: 0.0006 | Episodes: 2462 | Win count: 71 | Win rate: 0.947 | time: 301.4 seconds\n",
      "I won\n",
      "Epoch: 075/14999 | Loss: 0.0004 | Episodes: 2470 | Win count: 72 | Win rate: 0.947 | time: 302.4 seconds\n",
      "I won\n",
      "Epoch: 076/14999 | Loss: 0.0008 | Episodes: 2483 | Win count: 73 | Win rate: 0.948 | time: 304.2 seconds\n",
      "I won\n",
      "Epoch: 077/14999 | Loss: 0.0004 | Episodes: 2501 | Win count: 74 | Win rate: 0.949 | time: 306.2 seconds\n",
      "I won\n",
      "Epoch: 078/14999 | Loss: 0.0005 | Episodes: 2508 | Win count: 75 | Win rate: 0.949 | time: 307.4 seconds\n",
      "I won\n",
      "Epoch: 079/14999 | Loss: 0.0005 | Episodes: 2529 | Win count: 76 | Win rate: 0.950 | time: 309.9 seconds\n",
      "I won\n",
      "Epoch: 080/14999 | Loss: 0.0007 | Episodes: 2558 | Win count: 77 | Win rate: 0.951 | time: 313.1 seconds\n",
      "I won\n",
      "Epoch: 081/14999 | Loss: 0.0002 | Episodes: 2560 | Win count: 78 | Win rate: 0.951 | time: 313.7 seconds\n",
      "I won\n",
      "Epoch: 082/14999 | Loss: 0.0005 | Episodes: 2583 | Win count: 79 | Win rate: 0.952 | time: 316.1 seconds\n",
      "I won\n",
      "Epoch: 083/14999 | Loss: 0.0009 | Episodes: 2590 | Win count: 80 | Win rate: 0.952 | time: 317.2 seconds\n",
      "I won\n",
      "Epoch: 084/14999 | Loss: 0.0001 | Episodes: 2612 | Win count: 81 | Win rate: 0.953 | time: 319.6 seconds\n",
      "I won\n",
      "Epoch: 085/14999 | Loss: 0.0011 | Episodes: 2623 | Win count: 82 | Win rate: 0.953 | time: 320.9 seconds\n",
      "I won\n",
      "Epoch: 086/14999 | Loss: 0.0003 | Episodes: 2631 | Win count: 83 | Win rate: 0.954 | time: 321.9 seconds\n",
      "I won\n",
      "Epoch: 087/14999 | Loss: 0.0005 | Episodes: 2642 | Win count: 84 | Win rate: 0.955 | time: 323.3 seconds\n",
      "I won\n",
      "Epoch: 088/14999 | Loss: 0.0005 | Episodes: 2649 | Win count: 85 | Win rate: 0.955 | time: 324.4 seconds\n",
      "I won\n",
      "Epoch: 089/14999 | Loss: 0.0008 | Episodes: 2653 | Win count: 86 | Win rate: 0.956 | time: 325.1 seconds\n",
      "I won\n",
      "Epoch: 090/14999 | Loss: 0.0001 | Episodes: 2659 | Win count: 87 | Win rate: 0.956 | time: 326.1 seconds\n",
      "I won\n",
      "Epoch: 091/14999 | Loss: 0.0006 | Episodes: 2665 | Win count: 88 | Win rate: 0.957 | time: 327.1 seconds\n",
      "I won\n",
      "Epoch: 092/14999 | Loss: 0.0002 | Episodes: 2668 | Win count: 89 | Win rate: 0.957 | time: 327.9 seconds\n",
      "I won\n",
      "Epoch: 093/14999 | Loss: 0.0007 | Episodes: 2698 | Win count: 90 | Win rate: 0.957 | time: 331.3 seconds\n",
      "I won\n",
      "Epoch: 094/14999 | Loss: 0.0001 | Episodes: 2724 | Win count: 91 | Win rate: 0.958 | time: 334.2 seconds\n",
      "I won\n",
      "Epoch: 095/14999 | Loss: 0.0017 | Episodes: 2744 | Win count: 92 | Win rate: 0.958 | time: 336.8 seconds\n",
      "I won\n",
      "Epoch: 096/14999 | Loss: 0.0008 | Episodes: 2780 | Win count: 93 | Win rate: 0.959 | time: 339.9 seconds\n",
      "I won\n",
      "Epoch: 097/14999 | Loss: 0.0009 | Episodes: 2811 | Win count: 94 | Win rate: 0.959 | time: 343.9 seconds\n",
      "I won\n",
      "Epoch: 098/14999 | Loss: 0.0009 | Episodes: 2821 | Win count: 95 | Win rate: 0.960 | time: 345.1 seconds\n",
      "I won\n",
      "Epoch: 099/14999 | Loss: 0.0010 | Episodes: 2852 | Win count: 96 | Win rate: 0.960 | time: 348.6 seconds\n",
      "I won\n",
      "Epoch: 100/14999 | Loss: 0.0009 | Episodes: 2878 | Win count: 97 | Win rate: 0.960 | time: 351.7 seconds\n",
      "I won\n",
      "Epoch: 101/14999 | Loss: 0.0009 | Episodes: 2885 | Win count: 98 | Win rate: 0.961 | time: 352.8 seconds\n",
      "I won\n",
      "Epoch: 102/14999 | Loss: 0.0009 | Episodes: 2894 | Win count: 99 | Win rate: 0.961 | time: 354.2 seconds\n",
      "I won\n",
      "Epoch: 103/14999 | Loss: 0.0008 | Episodes: 2904 | Win count: 100 | Win rate: 0.962 | time: 355.5 seconds\n",
      "I won\n",
      "Epoch: 104/14999 | Loss: 0.0003 | Episodes: 2927 | Win count: 101 | Win rate: 0.962 | time: 357.7 seconds\n",
      "I won\n",
      "Epoch: 105/14999 | Loss: 0.0005 | Episodes: 2931 | Win count: 102 | Win rate: 0.962 | time: 358.5 seconds\n",
      "I won\n",
      "Epoch: 106/14999 | Loss: 0.0003 | Episodes: 2966 | Win count: 103 | Win rate: 0.963 | time: 362.4 seconds\n",
      "I won\n",
      "Epoch: 107/14999 | Loss: 0.0007 | Episodes: 2995 | Win count: 104 | Win rate: 0.963 | time: 365.6 seconds\n",
      "I won\n",
      "Epoch: 108/14999 | Loss: 0.0004 | Episodes: 3013 | Win count: 105 | Win rate: 0.963 | time: 367.8 seconds\n",
      "I won\n",
      "Epoch: 109/14999 | Loss: 0.0004 | Episodes: 3048 | Win count: 106 | Win rate: 0.964 | time: 371.5 seconds\n",
      "I won\n",
      "Epoch: 110/14999 | Loss: 0.0006 | Episodes: 3070 | Win count: 107 | Win rate: 0.964 | time: 374.0 seconds\n",
      "I won\n",
      "Epoch: 111/14999 | Loss: 0.0003 | Episodes: 3097 | Win count: 108 | Win rate: 0.964 | time: 377.0 seconds\n",
      "I won\n",
      "Epoch: 112/14999 | Loss: 0.0006 | Episodes: 3101 | Win count: 109 | Win rate: 0.965 | time: 377.9 seconds\n",
      "I won\n",
      "Epoch: 113/14999 | Loss: 0.0006 | Episodes: 3133 | Win count: 110 | Win rate: 0.965 | time: 381.6 seconds\n",
      "I won\n",
      "Epoch: 114/14999 | Loss: 0.0007 | Episodes: 3140 | Win count: 111 | Win rate: 0.965 | time: 382.4 seconds\n",
      "I won\n",
      "Epoch: 115/14999 | Loss: 0.0006 | Episodes: 3195 | Win count: 112 | Win rate: 0.966 | time: 387.9 seconds\n",
      "I won\n",
      "Epoch: 116/14999 | Loss: 0.0006 | Episodes: 3212 | Win count: 113 | Win rate: 0.966 | time: 390.2 seconds\n",
      "I won\n",
      "Epoch: 117/14999 | Loss: 0.0004 | Episodes: 3241 | Win count: 114 | Win rate: 0.966 | time: 393.6 seconds\n",
      "I won\n",
      "Epoch: 118/14999 | Loss: 0.0005 | Episodes: 3244 | Win count: 115 | Win rate: 0.966 | time: 394.3 seconds\n",
      "I won\n",
      "Epoch: 119/14999 | Loss: 0.0002 | Episodes: 3251 | Win count: 116 | Win rate: 0.967 | time: 395.5 seconds\n",
      "I won\n",
      "Epoch: 120/14999 | Loss: 0.0005 | Episodes: 3264 | Win count: 117 | Win rate: 0.967 | time: 397.2 seconds\n",
      "I won\n",
      "Epoch: 121/14999 | Loss: 0.0002 | Episodes: 3273 | Win count: 118 | Win rate: 0.967 | time: 398.6 seconds\n",
      "I won\n",
      "Epoch: 122/14999 | Loss: 0.0002 | Episodes: 3295 | Win count: 119 | Win rate: 0.967 | time: 6.68 minutes\n",
      "I won\n",
      "Epoch: 123/14999 | Loss: 0.0008 | Episodes: 3319 | Win count: 120 | Win rate: 0.968 | time: 6.73 minutes\n",
      "I won\n",
      "Epoch: 124/14999 | Loss: 0.0002 | Episodes: 3333 | Win count: 121 | Win rate: 0.968 | time: 6.75 minutes\n",
      "I won\n",
      "Epoch: 125/14999 | Loss: 0.0005 | Episodes: 3362 | Win count: 122 | Win rate: 0.968 | time: 6.81 minutes\n",
      "I won\n",
      "Epoch: 126/14999 | Loss: 0.0003 | Episodes: 3369 | Win count: 123 | Win rate: 0.969 | time: 6.83 minutes\n",
      "I won\n",
      "Epoch: 127/14999 | Loss: 0.0006 | Episodes: 3401 | Win count: 124 | Win rate: 0.969 | time: 6.88 minutes\n",
      "I won\n",
      "Epoch: 128/14999 | Loss: 0.0004 | Episodes: 3414 | Win count: 125 | Win rate: 0.969 | time: 6.92 minutes\n",
      "I won\n",
      "Epoch: 129/14999 | Loss: 0.0003 | Episodes: 3428 | Win count: 126 | Win rate: 0.969 | time: 6.94 minutes\n",
      "I won\n",
      "Epoch: 130/14999 | Loss: 0.0006 | Episodes: 3429 | Win count: 127 | Win rate: 0.969 | time: 6.95 minutes\n",
      "I won\n",
      "Epoch: 131/14999 | Loss: 0.0001 | Episodes: 3431 | Win count: 128 | Win rate: 0.970 | time: 6.96 minutes\n",
      "I won\n",
      "Epoch: 132/14999 | Loss: 0.0005 | Episodes: 3454 | Win count: 129 | Win rate: 0.970 | time: 7.00 minutes\n",
      "I won\n",
      "Epoch: 133/14999 | Loss: 0.0004 | Episodes: 3462 | Win count: 130 | Win rate: 0.970 | time: 7.02 minutes\n",
      "I won\n",
      "Epoch: 134/14999 | Loss: 0.0005 | Episodes: 3492 | Win count: 131 | Win rate: 0.970 | time: 7.08 minutes\n",
      "I won\n",
      "Epoch: 135/14999 | Loss: 0.0011 | Episodes: 3508 | Win count: 132 | Win rate: 0.971 | time: 7.11 minutes\n",
      "I won\n",
      "Epoch: 136/14999 | Loss: 0.0017 | Episodes: 3542 | Win count: 133 | Win rate: 0.971 | time: 7.17 minutes\n",
      "I won\n",
      "Epoch: 137/14999 | Loss: 0.0001 | Episodes: 3570 | Win count: 134 | Win rate: 0.971 | time: 7.23 minutes\n",
      "I won\n",
      "Epoch: 138/14999 | Loss: 0.0006 | Episodes: 3590 | Win count: 135 | Win rate: 0.971 | time: 7.27 minutes\n",
      "I won\n",
      "Epoch: 139/14999 | Loss: 0.0010 | Episodes: 3606 | Win count: 136 | Win rate: 0.971 | time: 7.30 minutes\n",
      "I won\n",
      "Epoch: 140/14999 | Loss: 0.0005 | Episodes: 3629 | Win count: 137 | Win rate: 0.972 | time: 7.34 minutes\n",
      "I won\n",
      "Epoch: 141/14999 | Loss: 0.0005 | Episodes: 3644 | Win count: 138 | Win rate: 0.972 | time: 7.37 minutes\n",
      "I won\n",
      "Epoch: 142/14999 | Loss: 0.0005 | Episodes: 3664 | Win count: 139 | Win rate: 0.972 | time: 7.40 minutes\n",
      "I won\n",
      "Epoch: 143/14999 | Loss: 0.0004 | Episodes: 3685 | Win count: 140 | Win rate: 0.972 | time: 7.44 minutes\n",
      "I won\n",
      "Epoch: 144/14999 | Loss: 0.0009 | Episodes: 3695 | Win count: 141 | Win rate: 0.972 | time: 7.47 minutes\n",
      "I won\n",
      "Epoch: 145/14999 | Loss: 0.0001 | Episodes: 3704 | Win count: 142 | Win rate: 0.973 | time: 7.51 minutes\n",
      "I won\n",
      "Epoch: 146/14999 | Loss: 0.0005 | Episodes: 3722 | Win count: 143 | Win rate: 0.973 | time: 7.56 minutes\n",
      "I won\n",
      "Epoch: 147/14999 | Loss: 0.0010 | Episodes: 3740 | Win count: 144 | Win rate: 0.973 | time: 7.60 minutes\n",
      "I won\n",
      "Epoch: 148/14999 | Loss: 0.0005 | Episodes: 3747 | Win count: 145 | Win rate: 0.973 | time: 7.62 minutes\n",
      "I won\n",
      "Epoch: 149/14999 | Loss: 0.0001 | Episodes: 3753 | Win count: 146 | Win rate: 0.973 | time: 7.64 minutes\n",
      "I won\n",
      "Epoch: 150/14999 | Loss: 0.0004 | Episodes: 3780 | Win count: 147 | Win rate: 0.974 | time: 7.70 minutes\n",
      "I won\n",
      "Epoch: 151/14999 | Loss: 0.0005 | Episodes: 3806 | Win count: 148 | Win rate: 0.974 | time: 7.76 minutes\n",
      "I won\n",
      "Epoch: 152/14999 | Loss: 0.0003 | Episodes: 3808 | Win count: 149 | Win rate: 0.974 | time: 7.76 minutes\n",
      "I won\n",
      "Epoch: 153/14999 | Loss: 0.0004 | Episodes: 3835 | Win count: 150 | Win rate: 0.974 | time: 7.81 minutes\n",
      "I won\n",
      "Epoch: 154/14999 | Loss: 0.0001 | Episodes: 3861 | Win count: 151 | Win rate: 0.974 | time: 7.87 minutes\n",
      "I won\n",
      "Epoch: 155/14999 | Loss: 0.0009 | Episodes: 3898 | Win count: 152 | Win rate: 0.974 | time: 7.95 minutes\n",
      "I won\n",
      "Epoch: 156/14999 | Loss: 0.0011 | Episodes: 3903 | Win count: 153 | Win rate: 0.975 | time: 7.96 minutes\n",
      "I won\n",
      "Epoch: 157/14999 | Loss: 0.0004 | Episodes: 3920 | Win count: 154 | Win rate: 0.975 | time: 8.00 minutes\n",
      "I won\n",
      "Epoch: 158/14999 | Loss: 0.0006 | Episodes: 3923 | Win count: 155 | Win rate: 0.975 | time: 8.01 minutes\n",
      "I won\n",
      "Epoch: 159/14999 | Loss: 0.0006 | Episodes: 3942 | Win count: 156 | Win rate: 0.975 | time: 8.05 minutes\n",
      "I won\n",
      "Epoch: 160/14999 | Loss: 0.0002 | Episodes: 3967 | Win count: 157 | Win rate: 0.975 | time: 8.11 minutes\n",
      "I won\n",
      "Epoch: 161/14999 | Loss: 0.0006 | Episodes: 3989 | Win count: 158 | Win rate: 0.975 | time: 8.15 minutes\n",
      "I won\n",
      "Epoch: 162/14999 | Loss: 0.0008 | Episodes: 4012 | Win count: 159 | Win rate: 0.975 | time: 8.19 minutes\n",
      "I won\n",
      "Epoch: 163/14999 | Loss: 0.0001 | Episodes: 4038 | Win count: 160 | Win rate: 0.976 | time: 8.24 minutes\n",
      "I won\n",
      "Epoch: 164/14999 | Loss: 0.0004 | Episodes: 4049 | Win count: 161 | Win rate: 0.976 | time: 8.28 minutes\n",
      "I won\n",
      "Epoch: 165/14999 | Loss: 0.0008 | Episodes: 4062 | Win count: 162 | Win rate: 0.976 | time: 8.32 minutes\n",
      "I won\n",
      "Epoch: 166/14999 | Loss: 0.0007 | Episodes: 4073 | Win count: 163 | Win rate: 0.976 | time: 8.34 minutes\n",
      "I won\n",
      "Epoch: 167/14999 | Loss: 0.0004 | Episodes: 4095 | Win count: 164 | Win rate: 0.976 | time: 8.39 minutes\n",
      "I won\n",
      "Epoch: 168/14999 | Loss: 0.0001 | Episodes: 4117 | Win count: 165 | Win rate: 0.976 | time: 8.44 minutes\n",
      "I won\n",
      "Epoch: 169/14999 | Loss: 0.0003 | Episodes: 4140 | Win count: 166 | Win rate: 0.976 | time: 8.50 minutes\n",
      "I won\n",
      "Epoch: 170/14999 | Loss: 0.0009 | Episodes: 4149 | Win count: 167 | Win rate: 0.977 | time: 8.53 minutes\n",
      "I won\n",
      "Epoch: 171/14999 | Loss: 0.0001 | Episodes: 4168 | Win count: 168 | Win rate: 0.977 | time: 8.57 minutes\n",
      "I won\n",
      "Epoch: 172/14999 | Loss: 0.0004 | Episodes: 4173 | Win count: 169 | Win rate: 0.977 | time: 8.58 minutes\n",
      "I won\n",
      "Epoch: 173/14999 | Loss: 0.0000 | Episodes: 4196 | Win count: 170 | Win rate: 0.977 | time: 8.63 minutes\n",
      "I won\n",
      "Epoch: 174/14999 | Loss: 0.0001 | Episodes: 4221 | Win count: 171 | Win rate: 0.977 | time: 8.68 minutes\n",
      "Reached 100% win rate at epoch: 174\n",
      "n_epoch: 174, max_mem: 512, data: 32, time: 8.69 minutes\n"
     ]
    },
    {
     "data": {
      "text/plain": [
       "521.459776"
      ]
     },
     "execution_count": 11,
     "metadata": {},
     "output_type": "execute_result"
    }
   ],
   "source": [
    "model = build_model(maze)\n",
    "qtrain(model, maze, epochs=1000, max_memory=8*maze.size, data_size=32)"
   ]
  },
  {
   "cell_type": "markdown",
   "metadata": {},
   "source": [
    "This cell will check to see if the model passes the completion check. Note: This could take several minutes."
   ]
  },
  {
   "cell_type": "code",
   "execution_count": 12,
   "metadata": {},
   "outputs": [
    {
     "data": {
      "text/plain": [
       "<matplotlib.image.AxesImage at 0x1a28f2d5c48>"
      ]
     },
     "execution_count": 12,
     "metadata": {},
     "output_type": "execute_result"
    },
    {
     "data": {
      "image/png": "[encoded data removed]",
      "text/plain": [
       "<Figure size 432x288 with 1 Axes>"
      ]
     },
     "metadata": {
      "needs_background": "light"
     },
     "output_type": "display_data"
    }
   ],
   "source": [
    "completion_check(model, qmaze)\n",
    "show(qmaze)"
   ]
  },
  {
   "cell_type": "markdown",
   "metadata": {},
   "source": [
    "This cell will test your model for one game. It will start the pirate at the top-left corner and run play_game. The agent should find a path from the starting position to the target (treasure). The treasure is located in the bottom-right corner."
   ]
  },
  {
   "cell_type": "code",
   "execution_count": 13,
   "metadata": {},
   "outputs": [
    {
     "data": {
      "text/plain": [
       "<matplotlib.image.AxesImage at 0x1a297c5ee88>"
      ]
     },
     "execution_count": 13,
     "metadata": {},
     "output_type": "execute_result"
    },
    {
     "data": {
      "image/png": "[encoded data removed]",
      "text/plain": [
       "<Figure size 432x288 with 1 Axes>"
      ]
     },
     "metadata": {
      "needs_background": "light"
     },
     "output_type": "display_data"
    }
   ],
   "source": [
    "pirate_start = (0, 0)\n",
    "play_game(model, qmaze, pirate_start)\n",
    "show(qmaze)"
   ]
  },
  {
   "cell_type": "markdown",
   "metadata": {},
   "source": [
    "## Save and Submit Your Work\n",
    "After you have finished creating the code for your notebook, save your work. Make sure that your notebook contains your name in the filename (e.g. Doe_Jane_ProjectTwo.ipynb). This will help your instructor access and grade your work easily. Download a copy of your IPYNB file and submit it to Brightspace. Refer to the Jupyter Notebook in Apporto Tutorial if you need help with these tasks."
   ]
  }
 ],
 "metadata": {
  "kernelspec": {
   "display_name": "Python 3",
   "language": "python",
   "name": "python3"
  },
  "language_info": {
   "codemirror_mode": {
    "name": "ipython",
    "version": 3
   },
   "file_extension": ".py",
   "mimetype": "text/x-python",
   "name": "python",
   "nbconvert_exporter": "python",
   "pygments_lexer": "ipython3",
   "version": "3.7.4"
  }
 },
 "nbformat": 4,
 "nbformat_minor": 2
}
